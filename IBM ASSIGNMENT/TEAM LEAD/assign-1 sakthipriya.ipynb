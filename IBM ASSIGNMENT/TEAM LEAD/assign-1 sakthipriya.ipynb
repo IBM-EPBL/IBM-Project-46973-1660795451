{
  "nbformat": 4,
  "nbformat_minor": 0,
  "metadata": {
    "colab": {
      "provenance": [],
      "collapsed_sections": []
    },
    "kernelspec": {
      "name": "python3",
      "display_name": "Python 3"
    },
    "language_info": {
      "name": "python"
    }
  },
  "cells": [
    {
      "cell_type": "markdown",
      "source": [
        "# Basic Python"
      ],
      "metadata": {
        "id": "McSxJAwcOdZ1"
      }
    },
    {
      "cell_type": "markdown",
      "source": [
        "## 1. Split this string"
      ],
      "metadata": {
        "id": "CU48hgo4Owz5"
      }
    },
    {
      "cell_type": "code",
      "source": [
        "s = \"Hi there Sam!\""
      ],
      "metadata": {
        "id": "s07c7JK7Oqt-"
      },
      "execution_count": null,
      "outputs": []
    },
    {
      "cell_type": "code",
      "source": [
        "print(\"Hi there Sam!\")"
      ],
      "metadata": {
        "id": "6mGVa3SQYLkb",
        "outputId": "21685bce-457e-4f4f-f014-f6b15ef97ea7",
        "colab": {
          "base_uri": "https://localhost:8080/"
        }
      },
      "execution_count": 13,
      "outputs": [
        {
          "output_type": "stream",
          "name": "stdout",
          "text": [
            "Hi there Sam!\n"
          ]
        }
      ]
    },
    {
      "cell_type": "markdown",
      "source": [
        "## 2. Use .format() to print the following string. \n",
        "\n",
        "### Output should be: The diameter of Earth is 12742 kilometers."
      ],
      "metadata": {
        "id": "GH1QBn8HP375"
      }
    },
    {
      "cell_type": "code",
      "source": [
        "planet = \"Earth\"\n",
        "diameter = 12742"
      ],
      "metadata": {
        "id": "_ZHoml3kPqic"
      },
      "execution_count": null,
      "outputs": []
    },
    {
      "cell_type": "code",
      "source": [
        "txt = \"The diameter of Earth is {price:} kilometers\"\n",
        "print(txt.format(price = 12742))"
      ],
      "metadata": {
        "id": "HyRyJv6CYPb4",
        "outputId": "851f317d-0c25-434c-9024-03a83bfc9b74",
        "colab": {
          "base_uri": "https://localhost:8080/"
        }
      },
      "execution_count": 1,
      "outputs": [
        {
          "output_type": "stream",
          "name": "stdout",
          "text": [
            "The diameter of Earth is 12742 kilometers\n"
          ]
        }
      ]
    },
    {
      "cell_type": "markdown",
      "source": [
        "## 3. In this nest dictionary grab the word \"hello\""
      ],
      "metadata": {
        "id": "KE74ZEwkRExZ"
      }
    },
    {
      "cell_type": "code",
      "source": [
        "d = {'k1':[1,2,3,{'tricky':['oh','man','inception',{'target':[1,2,3,'hello']}]}]}"
      ],
      "metadata": {
        "id": "fcVwbCc1QrQI"
      },
      "execution_count": null,
      "outputs": []
    },
    {
      "cell_type": "code",
      "source": [
        "d = {'k1':[1,2,3,{'tricky':['oh','man','inception',{'target':[1,2,3,'hello']}]}]}\n",
        "print(d['k1'][3][\"tricky\"][3]['target'][3])"
      ],
      "metadata": {
        "id": "MvbkMZpXYRaw",
        "outputId": "0e91e13e-d34b-426f-e154-1d092658e49a",
        "colab": {
          "base_uri": "https://localhost:8080/"
        }
      },
      "execution_count": 2,
      "outputs": [
        {
          "output_type": "stream",
          "name": "stdout",
          "text": [
            "hello\n"
          ]
        }
      ]
    },
    {
      "cell_type": "markdown",
      "source": [
        "# Numpy"
      ],
      "metadata": {
        "id": "bw0vVp-9ddjv"
      }
    },
    {
      "cell_type": "code",
      "source": [
        "import numpy as np"
      ],
      "metadata": {
        "id": "LLiE_TYrhA1O"
      },
      "execution_count": null,
      "outputs": []
    },
    {
      "cell_type": "markdown",
      "source": [
        "## 4.1 Create an array of 10 zeros? \n",
        "## 4.2 Create an array of 10 fives?"
      ],
      "metadata": {
        "id": "wOg8hinbgx30"
      }
    },
    {
      "cell_type": "code",
      "source": [
        "import numpy as np\n",
        "array=np.zeros(10)\n",
        "print(\"An array of 10 zeros:\")\n",
        "print(array)"
      ],
      "metadata": {
        "id": "NHrirmgCYXvU",
        "outputId": "46e4d3ce-f2d1-4a01-d0d6-8b064c6514ef",
        "colab": {
          "base_uri": "https://localhost:8080/"
        }
      },
      "execution_count": 5,
      "outputs": [
        {
          "output_type": "stream",
          "name": "stdout",
          "text": [
            "An array of 10 zeros:\n",
            "[0. 0. 0. 0. 0. 0. 0. 0. 0. 0.]\n"
          ]
        }
      ]
    },
    {
      "cell_type": "code",
      "source": [
        "array=np.ones(10)*5\n",
        "print(\"An array of 10 fives:\")\n",
        "print(array)"
      ],
      "metadata": {
        "id": "e4005lsTYXxx",
        "outputId": "0785ca58-cb56-4282-b3d4-05433d56ab53",
        "colab": {
          "base_uri": "https://localhost:8080/"
        }
      },
      "execution_count": 6,
      "outputs": [
        {
          "output_type": "stream",
          "name": "stdout",
          "text": [
            "An array of 10 fives:\n",
            "[5. 5. 5. 5. 5. 5. 5. 5. 5. 5.]\n"
          ]
        }
      ]
    },
    {
      "cell_type": "markdown",
      "source": [
        "## 5. Create an array of all the even integers from 20 to 35"
      ],
      "metadata": {
        "id": "gZHHDUBvrMX4"
      }
    },
    {
      "cell_type": "code",
      "source": [
        "print(np.arange(20,36,2))"
      ],
      "metadata": {
        "id": "oAI2tbU2Yag-",
        "outputId": "3335807e-5a2b-4fd1-ddcf-472a19b0ba96",
        "colab": {
          "base_uri": "https://localhost:8080/"
        }
      },
      "execution_count": 14,
      "outputs": [
        {
          "output_type": "stream",
          "name": "stdout",
          "text": [
            "[20 22 24 26 28 30 32 34]\n"
          ]
        }
      ]
    },
    {
      "cell_type": "markdown",
      "source": [
        "## 6. Create a 3x3 matrix with values ranging from 0 to 8"
      ],
      "metadata": {
        "id": "NaOM308NsRpZ"
      }
    },
    {
      "cell_type": "code",
      "source": [
        "np.arange(0,9).reshape((3,3))"
      ],
      "metadata": {
        "id": "tOlEVH7BYceE",
        "outputId": "3c6d17d7-4296-41c1-ed5d-59dba8f7d020",
        "colab": {
          "base_uri": "https://localhost:8080/"
        }
      },
      "execution_count": 10,
      "outputs": [
        {
          "output_type": "execute_result",
          "data": {
            "text/plain": [
              "array([[0, 1, 2],\n",
              "       [3, 4, 5],\n",
              "       [6, 7, 8]])"
            ]
          },
          "metadata": {},
          "execution_count": 10
        }
      ]
    },
    {
      "cell_type": "markdown",
      "source": [
        "## 7. Concatenate a and b \n",
        "## a = np.array([1, 2, 3]), b = np.array([4, 5, 6])"
      ],
      "metadata": {
        "id": "hQ0dnhAQuU_p"
      }
    },
    {
      "cell_type": "code",
      "source": [
        "np.concatenate(([1,2,3], [4,5,6]))"
      ],
      "metadata": {
        "id": "rAPSw97aYfE0",
        "outputId": "2de34e89-c295-4db2-f47a-1fb36064abf5",
        "colab": {
          "base_uri": "https://localhost:8080/"
        }
      },
      "execution_count": 17,
      "outputs": [
        {
          "output_type": "execute_result",
          "data": {
            "text/plain": [
              "array([1, 2, 3, 4, 5, 6])"
            ]
          },
          "metadata": {},
          "execution_count": 17
        }
      ]
    },
    {
      "cell_type": "markdown",
      "source": [
        "# Pandas"
      ],
      "metadata": {
        "id": "dlPEY9DRwZga"
      }
    },
    {
      "cell_type": "markdown",
      "source": [
        "## 8. Create a dataframe with 3 rows and 2 columns"
      ],
      "metadata": {
        "id": "ijoYW51zwr87"
      }
    },
    {
      "cell_type": "code",
      "source": [
        "import pandas as pd\n"
      ],
      "metadata": {
        "id": "T5OxJRZ8uvR7"
      },
      "execution_count": null,
      "outputs": []
    },
    {
      "cell_type": "code",
      "source": [
        "import pandas as pd\n",
        "data={'Name':['abc','def','ghi'],'Age':['12','13','16']}\n",
        "df=pd.DataFrame(data)\n",
        "print(df)"
      ],
      "metadata": {
        "id": "xNpI_XXoYhs0",
        "outputId": "833fa95f-7142-40da-ba3b-170459cfd8a4",
        "colab": {
          "base_uri": "https://localhost:8080/"
        }
      },
      "execution_count": 4,
      "outputs": [
        {
          "output_type": "stream",
          "name": "stdout",
          "text": [
            "  Name Age\n",
            "0  abc  12\n",
            "1  def  13\n",
            "2  ghi  16\n"
          ]
        }
      ]
    },
    {
      "cell_type": "markdown",
      "source": [
        "## 9. Generate the series of dates from 1st Jan, 2023 to 10th Feb, 2023"
      ],
      "metadata": {
        "id": "UXSmdNclyJQD"
      }
    },
    {
      "cell_type": "code",
      "source": [
        "from datetime import timedelta, date\n",
        "\n",
        "def daterange(date1, date2):\n",
        "    for n in range(int ((date2 - date1).days)+1):\n",
        "        yield date1 + timedelta(n)\n",
        "\n",
        "start_dt = date(2023, 1, 1)\n",
        "end_dt = date(2023, 2, 10)\n",
        "for dt in daterange(start_dt, end_dt):\n",
        "    print(dt.strftime(\"%Y-%m-%d\"))"
      ],
      "metadata": {
        "id": "dgyC0JhVYl4F",
        "outputId": "e6d81052-319b-476b-eac5-54c8d6004766",
        "colab": {
          "base_uri": "https://localhost:8080/"
        }
      },
      "execution_count": 3,
      "outputs": [
        {
          "output_type": "stream",
          "name": "stdout",
          "text": [
            "2023-01-01\n",
            "2023-01-02\n",
            "2023-01-03\n",
            "2023-01-04\n",
            "2023-01-05\n",
            "2023-01-06\n",
            "2023-01-07\n",
            "2023-01-08\n",
            "2023-01-09\n",
            "2023-01-10\n",
            "2023-01-11\n",
            "2023-01-12\n",
            "2023-01-13\n",
            "2023-01-14\n",
            "2023-01-15\n",
            "2023-01-16\n",
            "2023-01-17\n",
            "2023-01-18\n",
            "2023-01-19\n",
            "2023-01-20\n",
            "2023-01-21\n",
            "2023-01-22\n",
            "2023-01-23\n",
            "2023-01-24\n",
            "2023-01-25\n",
            "2023-01-26\n",
            "2023-01-27\n",
            "2023-01-28\n",
            "2023-01-29\n",
            "2023-01-30\n",
            "2023-01-31\n",
            "2023-02-01\n",
            "2023-02-02\n",
            "2023-02-03\n",
            "2023-02-04\n",
            "2023-02-05\n",
            "2023-02-06\n",
            "2023-02-07\n",
            "2023-02-08\n",
            "2023-02-09\n",
            "2023-02-10\n"
          ]
        }
      ]
    },
    {
      "cell_type": "markdown",
      "source": [
        "## 10. Create 2D list to DataFrame\n",
        "\n",
        "lists = [[1, 'aaa', 22],\n",
        "         [2, 'bbb', 25],\n",
        "         [3, 'ccc', 24]]"
      ],
      "metadata": {
        "id": "ZizSetD-y5az"
      }
    },
    {
      "cell_type": "code",
      "source": [
        "lists = [[1, 'aaa', 22], [2, 'bbb', 25], [3, 'ccc', 24]]"
      ],
      "metadata": {
        "id": "_XMC8aEt0llB"
      },
      "execution_count": null,
      "outputs": []
    },
    {
      "cell_type": "code",
      "source": [
        "import pandas as pd\n",
        "lists=[[1, 'aaa', 22], [2, 'bbb', 25], [3,'ccc', 24]]\n",
        "df=pd.DataFrame(lists,columns =['serial no', 'name', 'number'])\n",
        "print(df)"
      ],
      "metadata": {
        "id": "knH76sDKYsVX",
        "outputId": "460f61cb-3bc8-4199-8bec-d48d3cc1eac7",
        "colab": {
          "base_uri": "https://localhost:8080/"
        }
      },
      "execution_count": 7,
      "outputs": [
        {
          "output_type": "stream",
          "name": "stdout",
          "text": [
            "   serial no name  number\n",
            "0          1  aaa      22\n",
            "1          2  bbb      25\n",
            "2          3  ccc      24\n"
          ]
        }
      ]
    }
  ]
}